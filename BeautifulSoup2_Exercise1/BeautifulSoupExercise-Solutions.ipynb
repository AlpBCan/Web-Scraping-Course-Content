{
 "cells": [
  {
   "cell_type": "code",
   "execution_count": 7,
   "id": "16c69be0-267b-4b46-9395-8ed6d3145d92",
   "metadata": {},
   "outputs": [],
   "source": [
    "import requests\n",
    "from bs4 import BeautifulSoup\n",
    "import lxml\n",
    "\n",
    "response = requests.get('https://quotes.toscrape.com/')\n",
    "soup = BeautifulSoup(response.text, 'html.parser')"
   ]
  },
  {
   "cell_type": "markdown",
   "id": "5ca6214b-039d-48de-8397-268ace23bdd5",
   "metadata": {},
   "source": [
    "    Print out the first quote"
   ]
  },
  {
   "cell_type": "code",
   "execution_count": 8,
   "id": "eed2bd9f-fdf7-4d75-a570-05abd4fa64c2",
   "metadata": {},
   "outputs": [
    {
     "data": {
      "text/plain": [
       "'“The world as we have created it is a process of our thinking. It cannot be changed without changing our thinking.”'"
      ]
     },
     "execution_count": 8,
     "metadata": {},
     "output_type": "execute_result"
    }
   ],
   "source": [
    "first_element = soup.find('div', class_='quote')\n",
    "first_quote = first_element.span.text\n",
    "first_quote"
   ]
  },
  {
   "cell_type": "markdown",
   "id": "d3ab74ef-fcaf-4f6d-b8f3-08bf2bf2622e",
   "metadata": {},
   "source": [
    "    Print out the first author"
   ]
  },
  {
   "cell_type": "code",
   "execution_count": 9,
   "id": "ce77d638-1e5e-42f9-be4c-f07262037f65",
   "metadata": {},
   "outputs": [
    {
     "data": {
      "text/plain": [
       "'Albert Einstein'"
      ]
     },
     "execution_count": 9,
     "metadata": {},
     "output_type": "execute_result"
    }
   ],
   "source": [
    "first_author = first_element.small.text\n",
    "first_author"
   ]
  },
  {
   "cell_type": "markdown",
   "id": "a3162779-c2dd-41a5-bba9-52aaf8445fcd",
   "metadata": {},
   "source": [
    "    Print out the first tags"
   ]
  },
  {
   "cell_type": "code",
   "execution_count": 11,
   "id": "0cd19f12-28c0-4ffd-a993-f88cb6e4651b",
   "metadata": {},
   "outputs": [
    {
     "name": "stdout",
     "output_type": "stream",
     "text": [
      "change\n",
      "deep-thoughts\n",
      "thinking\n",
      "world\n"
     ]
    }
   ],
   "source": [
    "tags = first_element.find_all('a', class_='tag')\n",
    "for tag in tags:\n",
    "    print(tag.text)"
   ]
  },
  {
   "cell_type": "markdown",
   "id": "90a308cd-2df1-4e6b-a992-ea0616b3bc06",
   "metadata": {},
   "source": [
    "    Take the list of all quote elements on the first page"
   ]
  },
  {
   "cell_type": "code",
   "execution_count": 13,
   "id": "3a4809e7-5b62-4c39-97fe-fc6e3d777249",
   "metadata": {},
   "outputs": [
    {
     "data": {
      "text/plain": [
       "10"
      ]
     },
     "execution_count": 13,
     "metadata": {},
     "output_type": "execute_result"
    }
   ],
   "source": [
    "quotes = soup.find_all('div', class_='quote')\n",
    "len(quotes)"
   ]
  },
  {
   "cell_type": "markdown",
   "id": "b69f782a-78ec-419d-82b7-d3a525ec3df9",
   "metadata": {},
   "source": [
    "    Print out quote, author and tags of all elements on the first page (You must use a loop, maybe another loop for the tags)"
   ]
  },
  {
   "cell_type": "code",
   "execution_count": 14,
   "id": "2f0195ed-64b0-4174-bb9f-6fbe6712f432",
   "metadata": {},
   "outputs": [
    {
     "name": "stdout",
     "output_type": "stream",
     "text": [
      "“The world as we have created it is a process of our thinking. It cannot be changed without changing our thinking.”\n",
      "Albert Einstein\n",
      "change\n",
      "deep-thoughts\n",
      "thinking\n",
      "world\n",
      "\n",
      "\n",
      "“It is our choices, Harry, that show what we truly are, far more than our abilities.”\n",
      "J.K. Rowling\n",
      "abilities\n",
      "choices\n",
      "\n",
      "\n",
      "“There are only two ways to live your life. One is as though nothing is a miracle. The other is as though everything is a miracle.”\n",
      "Albert Einstein\n",
      "inspirational\n",
      "life\n",
      "live\n",
      "miracle\n",
      "miracles\n",
      "\n",
      "\n",
      "“The person, be it gentleman or lady, who has not pleasure in a good novel, must be intolerably stupid.”\n",
      "Jane Austen\n",
      "aliteracy\n",
      "books\n",
      "classic\n",
      "humor\n",
      "\n",
      "\n",
      "“Imperfection is beauty, madness is genius and it's better to be absolutely ridiculous than absolutely boring.”\n",
      "Marilyn Monroe\n",
      "be-yourself\n",
      "inspirational\n",
      "\n",
      "\n",
      "“Try not to become a man of success. Rather become a man of value.”\n",
      "Albert Einstein\n",
      "adulthood\n",
      "success\n",
      "value\n",
      "\n",
      "\n",
      "“It is better to be hated for what you are than to be loved for what you are not.”\n",
      "André Gide\n",
      "life\n",
      "love\n",
      "\n",
      "\n",
      "“I have not failed. I've just found 10,000 ways that won't work.”\n",
      "Thomas A. Edison\n",
      "edison\n",
      "failure\n",
      "inspirational\n",
      "paraphrased\n",
      "\n",
      "\n",
      "“A woman is like a tea bag; you never know how strong it is until it's in hot water.”\n",
      "Eleanor Roosevelt\n",
      "misattributed-eleanor-roosevelt\n",
      "\n",
      "\n",
      "“A day without sunshine is like, you know, night.”\n",
      "Steve Martin\n",
      "humor\n",
      "obvious\n",
      "simile\n",
      "\n",
      "\n"
     ]
    }
   ],
   "source": [
    "for quote in quotes:\n",
    "    print(quote.span.text)\n",
    "    print(quote.small.text)\n",
    "    tags = quote.find_all('a', class_='tag')\n",
    "    for tag in tags:\n",
    "        print(tag.text)\n",
    "    print('\\n')"
   ]
  },
  {
   "cell_type": "markdown",
   "id": "a5821908-4dbf-4a21-9ea2-3c32b48124b5",
   "metadata": {},
   "source": [
    "    Print out the first author on every page (There are 10 pages, so 10 requests, 10 soups)"
   ]
  },
  {
   "cell_type": "code",
   "execution_count": 15,
   "id": "413f0276-2762-4563-b5a3-550889364b94",
   "metadata": {},
   "outputs": [
    {
     "name": "stdout",
     "output_type": "stream",
     "text": [
      "Albert Einstein\n",
      "Marilyn Monroe\n",
      "Pablo Neruda\n",
      "Dr. Seuss\n",
      "George R.R. Martin\n",
      "Jane Austen\n",
      "Charles Bukowski\n",
      "Alfred Tennyson\n",
      "Albert Einstein\n",
      "J.K. Rowling\n"
     ]
    }
   ],
   "source": [
    "for page_no in range(1, 11):\n",
    "    url = f'https://quotes.toscrape.com/page/{page_no}/'\n",
    "    response = requests.get(url)\n",
    "    page_soup = BeautifulSoup(response.text, 'html.parser')\n",
    "    first_element = page_soup.find('div', class_='quote')\n",
    "    print(first_element.small.text)"
   ]
  },
  {
   "cell_type": "markdown",
   "id": "88dc1ad5-5ad6-42ba-acb0-82da5fd2a043",
   "metadata": {},
   "source": [
    "    Locate the 'Next' button on page 1 and print out its 'href' attribute"
   ]
  },
  {
   "cell_type": "code",
   "execution_count": 19,
   "id": "4d921bbc-8b6d-4115-a94b-ab8a53cbaa7a",
   "metadata": {},
   "outputs": [
    {
     "data": {
      "text/plain": [
       "'/page/2/'"
      ]
     },
     "execution_count": 19,
     "metadata": {},
     "output_type": "execute_result"
    }
   ],
   "source": [
    "next_button = soup.find('li', class_='next').a\n",
    "next_button['href']"
   ]
  },
  {
   "cell_type": "markdown",
   "id": "04072c4c-1062-4785-9d25-96c4ee9d9308",
   "metadata": {},
   "source": [
    "    Using the 'Next' button, reach to the last quote element in page one (use parents/siblings)"
   ]
  },
  {
   "cell_type": "code",
   "execution_count": 22,
   "id": "f0bfac3c-0215-4833-bd7d-8ab69a08bd09",
   "metadata": {},
   "outputs": [
    {
     "data": {
      "text/plain": [
       "<div class=\"quote\" itemscope=\"\" itemtype=\"http://schema.org/CreativeWork\">\n",
       "<span class=\"text\" itemprop=\"text\">“A day without sunshine is like, you know, night.”</span>\n",
       "<span>by <small class=\"author\" itemprop=\"author\">Steve Martin</small>\n",
       "<a href=\"/author/Steve-Martin\">(about)</a>\n",
       "</span>\n",
       "<div class=\"tags\">\n",
       "            Tags:\n",
       "            <meta class=\"keywords\" content=\"humor,obvious,simile\" itemprop=\"keywords\"/>\n",
       "<a class=\"tag\" href=\"/tag/humor/page/1/\">humor</a>\n",
       "<a class=\"tag\" href=\"/tag/obvious/page/1/\">obvious</a>\n",
       "<a class=\"tag\" href=\"/tag/simile/page/1/\">simile</a>\n",
       "</div>\n",
       "</div>"
      ]
     },
     "execution_count": 22,
     "metadata": {},
     "output_type": "execute_result"
    }
   ],
   "source": [
    "last_quote = next_button.parent.parent.parent.find_previous_sibling()\n",
    "last_quote"
   ]
  },
  {
   "cell_type": "markdown",
   "id": "264c8227-2d07-4da0-8b54-38c4ec51dab3",
   "metadata": {},
   "source": [
    "    Print out the class name of the last element"
   ]
  },
  {
   "cell_type": "code",
   "execution_count": 23,
   "id": "0e6b7de0-5fd9-49a5-9778-b8a0a0b598f3",
   "metadata": {},
   "outputs": [
    {
     "data": {
      "text/plain": [
       "['quote']"
      ]
     },
     "execution_count": 23,
     "metadata": {},
     "output_type": "execute_result"
    }
   ],
   "source": [
    "last_quote['class']"
   ]
  },
  {
   "cell_type": "markdown",
   "id": "1529b3ec-db52-4065-a34b-f1da8f9e6877",
   "metadata": {},
   "source": [
    "    Print out the itemtype of the last element"
   ]
  },
  {
   "cell_type": "code",
   "execution_count": 24,
   "id": "8a971024-02c9-40f4-b03d-13fb81b656f2",
   "metadata": {},
   "outputs": [
    {
     "data": {
      "text/plain": [
       "'http://schema.org/CreativeWork'"
      ]
     },
     "execution_count": 24,
     "metadata": {},
     "output_type": "execute_result"
    }
   ],
   "source": [
    "last_quote['itemtype']"
   ]
  }
 ],
 "metadata": {
  "kernelspec": {
   "display_name": "Python 3 (ipykernel)",
   "language": "python",
   "name": "python3"
  },
  "language_info": {
   "codemirror_mode": {
    "name": "ipython",
    "version": 3
   },
   "file_extension": ".py",
   "mimetype": "text/x-python",
   "name": "python",
   "nbconvert_exporter": "python",
   "pygments_lexer": "ipython3",
   "version": "3.12.4"
  }
 },
 "nbformat": 4,
 "nbformat_minor": 5
}
