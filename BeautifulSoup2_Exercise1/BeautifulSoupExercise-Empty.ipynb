{
 "cells": [
  {
   "cell_type": "code",
   "execution_count": 2,
   "id": "16c69be0-267b-4b46-9395-8ed6d3145d92",
   "metadata": {},
   "outputs": [],
   "source": [
    "import requests\n",
    "from bs4 import BeautifulSoup\n",
    "import lxml\n",
    "\n",
    "response = requests.get('https://quotes.toscrape.com/')\n",
    "soup = BeautifulSoup(response.text, 'html.parser')"
   ]
  },
  {
   "cell_type": "markdown",
   "id": "5ca6214b-039d-48de-8397-268ace23bdd5",
   "metadata": {},
   "source": [
    "    Print out the first quote"
   ]
  },
  {
   "cell_type": "code",
   "execution_count": null,
   "id": "eed2bd9f-fdf7-4d75-a570-05abd4fa64c2",
   "metadata": {},
   "outputs": [],
   "source": []
  },
  {
   "cell_type": "markdown",
   "id": "d3ab74ef-fcaf-4f6d-b8f3-08bf2bf2622e",
   "metadata": {},
   "source": [
    "    Print out the first author"
   ]
  },
  {
   "cell_type": "code",
   "execution_count": null,
   "id": "7aa19c3d-7ec2-4e4b-9b0b-f28951a36a03",
   "metadata": {},
   "outputs": [],
   "source": []
  },
  {
   "cell_type": "markdown",
   "id": "a3162779-c2dd-41a5-bba9-52aaf8445fcd",
   "metadata": {},
   "source": [
    "    Print out the first tags"
   ]
  },
  {
   "cell_type": "code",
   "execution_count": null,
   "id": "0cd19f12-28c0-4ffd-a993-f88cb6e4651b",
   "metadata": {},
   "outputs": [],
   "source": []
  },
  {
   "cell_type": "markdown",
   "id": "90a308cd-2df1-4e6b-a992-ea0616b3bc06",
   "metadata": {},
   "source": [
    "    Take the list of all quote elements on the first page"
   ]
  },
  {
   "cell_type": "code",
   "execution_count": null,
   "id": "3a4809e7-5b62-4c39-97fe-fc6e3d777249",
   "metadata": {},
   "outputs": [],
   "source": []
  },
  {
   "cell_type": "markdown",
   "id": "b69f782a-78ec-419d-82b7-d3a525ec3df9",
   "metadata": {},
   "source": [
    "    Print out quote, author and tags of all elements on the first page (You must use a loop)"
   ]
  },
  {
   "cell_type": "code",
   "execution_count": null,
   "id": "2f0195ed-64b0-4174-bb9f-6fbe6712f432",
   "metadata": {},
   "outputs": [],
   "source": []
  },
  {
   "cell_type": "markdown",
   "id": "a5821908-4dbf-4a21-9ea2-3c32b48124b5",
   "metadata": {},
   "source": [
    "    Print out the first author on every page (There are 10 pages)"
   ]
  },
  {
   "cell_type": "code",
   "execution_count": null,
   "id": "413f0276-2762-4563-b5a3-550889364b94",
   "metadata": {},
   "outputs": [],
   "source": []
  },
  {
   "cell_type": "markdown",
   "id": "88dc1ad5-5ad6-42ba-acb0-82da5fd2a043",
   "metadata": {},
   "source": [
    "    Locate the 'Next' button on page 1 and print out its 'href' attribute"
   ]
  },
  {
   "cell_type": "code",
   "execution_count": null,
   "id": "4d921bbc-8b6d-4115-a94b-ab8a53cbaa7a",
   "metadata": {},
   "outputs": [],
   "source": []
  },
  {
   "cell_type": "markdown",
   "id": "04072c4c-1062-4785-9d25-96c4ee9d9308",
   "metadata": {},
   "source": [
    "    Using the 'Next' button, reach to the last quote element in page one (use parents/siblings)"
   ]
  },
  {
   "cell_type": "code",
   "execution_count": null,
   "id": "f0bfac3c-0215-4833-bd7d-8ab69a08bd09",
   "metadata": {},
   "outputs": [],
   "source": []
  },
  {
   "cell_type": "markdown",
   "id": "264c8227-2d07-4da0-8b54-38c4ec51dab3",
   "metadata": {},
   "source": [
    "    Print out the class name of the last element"
   ]
  },
  {
   "cell_type": "code",
   "execution_count": null,
   "id": "0e6b7de0-5fd9-49a5-9778-b8a0a0b598f3",
   "metadata": {},
   "outputs": [],
   "source": []
  },
  {
   "cell_type": "markdown",
   "id": "1529b3ec-db52-4065-a34b-f1da8f9e6877",
   "metadata": {},
   "source": [
    "    Print out the itemtype of the last element"
   ]
  },
  {
   "cell_type": "code",
   "execution_count": null,
   "id": "8a971024-02c9-40f4-b03d-13fb81b656f2",
   "metadata": {},
   "outputs": [],
   "source": []
  }
 ],
 "metadata": {
  "kernelspec": {
   "display_name": "Python 3 (ipykernel)",
   "language": "python",
   "name": "python3"
  },
  "language_info": {
   "codemirror_mode": {
    "name": "ipython",
    "version": 3
   },
   "file_extension": ".py",
   "mimetype": "text/x-python",
   "name": "python",
   "nbconvert_exporter": "python",
   "pygments_lexer": "ipython3",
   "version": "3.11.1"
  }
 },
 "nbformat": 4,
 "nbformat_minor": 5
}
