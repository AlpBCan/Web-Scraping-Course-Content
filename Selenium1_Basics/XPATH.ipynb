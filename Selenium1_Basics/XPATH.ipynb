{
 "cells": [
  {
   "cell_type": "code",
   "execution_count": 1,
   "id": "94cc0c6a-c071-4a92-9cac-55d88f649090",
   "metadata": {},
   "outputs": [],
   "source": [
    "from selenium import webdriver\n",
    "from selenium.webdriver.common.by import By\n",
    "\n",
    "url = 'https://books.toscrape.com/'\n",
    "\n",
    "options = webdriver.ChromeOptions()\n",
    "options.add_argument('--start-maximized')\n",
    "options.add_argument('--headless')\n",
    "\n",
    "driver = webdriver.Chrome(options=options)"
   ]
  },
  {
   "cell_type": "markdown",
   "id": "04095b84-b57b-4d9f-886a-85335b336935",
   "metadata": {},
   "source": [
    "# Select elements using tag name"
   ]
  },
  {
   "cell_type": "markdown",
   "id": "ab9785b3-73c0-42d1-86bb-d7dffed2aba1",
   "metadata": {},
   "source": [
    "### All elements"
   ]
  },
  {
   "cell_type": "code",
   "execution_count": 2,
   "id": "8f4a6e72-3f21-474f-814b-3ef77e1af138",
   "metadata": {},
   "outputs": [
    {
     "data": {
      "text/plain": [
       "75"
      ]
     },
     "execution_count": 2,
     "metadata": {},
     "output_type": "execute_result"
    }
   ],
   "source": [
    "driver.get(url)\n",
    "list_items = driver.find_elements(By.XPATH, '//li')\n",
    "len(list_items)"
   ]
  },
  {
   "cell_type": "markdown",
   "id": "a4a8e6c4-cd28-4f2a-a34e-853499a99b6a",
   "metadata": {},
   "source": [
    "### First element"
   ]
  },
  {
   "cell_type": "code",
   "execution_count": 3,
   "id": "e37f5c03-01aa-4074-b13d-caff72629a7a",
   "metadata": {},
   "outputs": [
    {
     "data": {
      "text/plain": [
       "'Home'"
      ]
     },
     "execution_count": 3,
     "metadata": {},
     "output_type": "execute_result"
    }
   ],
   "source": [
    "driver.get(url)\n",
    "list_item = driver.find_element(By.XPATH, '//li').text\n",
    "list_item"
   ]
  },
  {
   "cell_type": "markdown",
   "id": "f36e9a88-c5e0-44a2-aaf3-472d9620a337",
   "metadata": {},
   "source": [
    "# Select elements using class name"
   ]
  },
  {
   "cell_type": "markdown",
   "id": "07a29bc4-a306-4b67-b126-be61b17e63e7",
   "metadata": {},
   "source": [
    "### All elements"
   ]
  },
  {
   "cell_type": "code",
   "execution_count": 4,
   "id": "497e82be-6284-4003-a423-67a36ff537b1",
   "metadata": {},
   "outputs": [
    {
     "name": "stdout",
     "output_type": "stream",
     "text": [
      "£51.77\n",
      "\n",
      "\n",
      "£53.74\n",
      "\n",
      "\n",
      "£50.10\n",
      "\n",
      "\n",
      "£47.82\n",
      "\n",
      "\n",
      "£54.23\n",
      "\n",
      "\n",
      "£22.65\n",
      "\n",
      "\n",
      "£33.34\n",
      "\n",
      "\n",
      "£17.93\n",
      "\n",
      "\n",
      "£22.60\n",
      "\n",
      "\n",
      "£52.15\n",
      "\n",
      "\n",
      "£13.99\n",
      "\n",
      "\n",
      "£20.66\n",
      "\n",
      "\n",
      "£17.46\n",
      "\n",
      "\n",
      "£52.29\n",
      "\n",
      "\n",
      "£35.02\n",
      "\n",
      "\n",
      "£57.25\n",
      "\n",
      "\n",
      "£23.88\n",
      "\n",
      "\n",
      "£37.59\n",
      "\n",
      "\n",
      "£51.33\n",
      "\n",
      "\n",
      "£45.17\n",
      "\n",
      "\n"
     ]
    }
   ],
   "source": [
    "driver.get(url)\n",
    "prices = driver.find_elements(By.XPATH, '//p[@class=\"price_color\"]')\n",
    "for price in prices:\n",
    "    print(price.text)\n",
    "    print('\\n')"
   ]
  },
  {
   "cell_type": "markdown",
   "id": "94c99337-cfa1-4d04-8c30-6d7d3c8c8e24",
   "metadata": {},
   "source": [
    "### First element"
   ]
  },
  {
   "cell_type": "code",
   "execution_count": 5,
   "id": "f6f4fa2a-690f-4aa3-b771-453a8eae9e24",
   "metadata": {},
   "outputs": [
    {
     "name": "stdout",
     "output_type": "stream",
     "text": [
      "First element's price = £51.77\n"
     ]
    }
   ],
   "source": [
    "driver.get(url)\n",
    "price = driver.find_element(By.XPATH, '//p[@class=\"price_color\"]')\n",
    "print(f'First element\\'s price = {price.text}')"
   ]
  },
  {
   "cell_type": "markdown",
   "id": "6e6c768f-537d-473a-b490-d9e53099c721",
   "metadata": {},
   "source": [
    "# Select element using ID"
   ]
  },
  {
   "cell_type": "code",
   "execution_count": 6,
   "id": "d19ca258-9c05-4c87-85d9-79abb66026b0",
   "metadata": {},
   "outputs": [
    {
     "name": "stdout",
     "output_type": "stream",
     "text": [
      "Books to Scrape We love being scraped!\n",
      "Home All products\n",
      "Books\n",
      "Travel\n",
      "Mystery\n",
      "Historical Fiction\n",
      "Sequential Art\n",
      "Classics\n",
      "Philosophy\n",
      "Romance\n",
      "Womens Fiction\n",
      "Fiction\n",
      "Childrens\n",
      "Religion\n",
      "Nonfiction\n",
      "Music\n",
      "Default\n",
      "Science Fiction\n",
      "Sports and Games\n",
      "Add a comment\n",
      "Fantasy\n",
      "New Adult\n",
      "Young Adult\n",
      "Science\n",
      "Poetry\n",
      "Paranormal\n",
      "Art\n",
      "Psychology\n",
      "Autobiography\n",
      "Parenting\n",
      "Adult Fiction\n",
      "Humor\n",
      "Horror\n",
      "History\n",
      "Food and Drink\n",
      "Christian Fiction\n",
      "Business\n",
      "Biography\n",
      "Thriller\n",
      "Contemporary\n",
      "Spirituality\n",
      "Academic\n",
      "Self Help\n",
      "Historical\n",
      "Christian\n",
      "Suspense\n",
      "Short Stories\n",
      "Novels\n",
      "Health\n",
      "Politics\n",
      "Cultural\n",
      "Erotica\n",
      "Crime\n",
      "All products\n",
      "1000 results - showing 1 to 20.\n",
      "Warning! This is a demo website for web scraping purposes. Prices and ratings here were randomly assigned and have no real meaning.\n",
      "A Light in the ...\n",
      "£51.77\n",
      "In stock\n",
      "Add to basket\n",
      "Tipping the Velvet\n",
      "£53.74\n",
      "In stock\n",
      "Add to basket\n",
      "Soumission\n",
      "£50.10\n",
      "In stock\n",
      "Add to basket\n",
      "Sharp Objects\n",
      "£47.82\n",
      "In stock\n",
      "Add to basket\n",
      "Sapiens: A Brief History ...\n",
      "£54.23\n",
      "In stock\n",
      "Add to basket\n",
      "The Requiem Red\n",
      "£22.65\n",
      "In stock\n",
      "Add to basket\n",
      "The Dirty Little Secrets ...\n",
      "£33.34\n",
      "In stock\n",
      "Add to basket\n",
      "The Coming Woman: A ...\n",
      "£17.93\n",
      "In stock\n",
      "Add to basket\n",
      "The Boys in the ...\n",
      "£22.60\n",
      "In stock\n",
      "Add to basket\n",
      "The Black Maria\n",
      "£52.15\n",
      "In stock\n",
      "Add to basket\n",
      "Starving Hearts (Triangular Trade ...\n",
      "£13.99\n",
      "In stock\n",
      "Add to basket\n",
      "Shakespeare's Sonnets\n",
      "£20.66\n",
      "In stock\n",
      "Add to basket\n",
      "Set Me Free\n",
      "£17.46\n",
      "In stock\n",
      "Add to basket\n",
      "Scott Pilgrim's Precious Little ...\n",
      "£52.29\n",
      "In stock\n",
      "Add to basket\n",
      "Rip it Up and ...\n",
      "£35.02\n",
      "In stock\n",
      "Add to basket\n",
      "Our Band Could Be ...\n",
      "£57.25\n",
      "In stock\n",
      "Add to basket\n",
      "Olio\n",
      "£23.88\n",
      "In stock\n",
      "Add to basket\n",
      "Mesaerion: The Best Science ...\n",
      "£37.59\n",
      "In stock\n",
      "Add to basket\n",
      "Libertarianism for Beginners\n",
      "£51.33\n",
      "In stock\n",
      "Add to basket\n",
      "It's Only the Himalayas\n",
      "£45.17\n",
      "In stock\n",
      "Add to basket\n",
      "Page 1 of 50\n",
      "next\n"
     ]
    }
   ],
   "source": [
    "driver.get(url)\n",
    "body = driver.find_element(By.XPATH, '//body[@id=\"default\"]')\n",
    "print(body.text)"
   ]
  },
  {
   "cell_type": "markdown",
   "id": "58294ea8-25e6-49b0-83f2-a55ce38b0f31",
   "metadata": {},
   "source": [
    "# Select element using the attributes"
   ]
  },
  {
   "cell_type": "code",
   "execution_count": 7,
   "id": "603e097c-1a1b-4a99-9fdc-07fe63d7a73e",
   "metadata": {},
   "outputs": [
    {
     "data": {
      "text/plain": [
       "'Warning! This is a demo website for web scraping purposes. Prices and ratings here were randomly assigned and have no real meaning.'"
      ]
     },
     "execution_count": 7,
     "metadata": {},
     "output_type": "execute_result"
    }
   ],
   "source": [
    "driver.get(url)\n",
    "alert = driver.find_element(By.XPATH, '//div[@role=\"alert\"]')\n",
    "alert.text"
   ]
  },
  {
   "cell_type": "markdown",
   "id": "fe31bdcb-fa70-40c9-8b43-bd047329adc2",
   "metadata": {},
   "source": [
    "# Select element using the text inside of it"
   ]
  },
  {
   "cell_type": "code",
   "execution_count": 8,
   "id": "c2a6c854-e745-4e2a-ad6f-c5a331f9aafa",
   "metadata": {},
   "outputs": [
    {
     "data": {
      "text/plain": [
       "'https://books.toscrape.com/catalogue/page-2.html'"
      ]
     },
     "execution_count": 8,
     "metadata": {},
     "output_type": "execute_result"
    }
   ],
   "source": [
    "driver.get(url)\n",
    "next_button = driver.find_element(By.XPATH, '//a[text()=\"next\"]')\n",
    "next_button.get_attribute('href')"
   ]
  },
  {
   "cell_type": "markdown",
   "id": "312bb78b-2e37-4b86-ab2b-64eea6d5279c",
   "metadata": {},
   "source": [
    "# Select nested elements"
   ]
  },
  {
   "cell_type": "code",
   "execution_count": 9,
   "id": "7fd015cd-7ca7-4109-a8f4-25ca1fead633",
   "metadata": {},
   "outputs": [
    {
     "data": {
      "text/plain": [
       "'https://books.toscrape.com/media/cache/2c/da/2cdad67c44b002e7ead0cc35693c0e8b.jpg'"
      ]
     },
     "execution_count": 9,
     "metadata": {},
     "output_type": "execute_result"
    }
   ],
   "source": [
    "driver.get(url)\n",
    "img_src = driver.find_element(By.XPATH, '//article[@class=\"product_pod\"]/div/a/img').get_attribute('src')\n",
    "img_src"
   ]
  },
  {
   "cell_type": "markdown",
   "id": "0e1797b9-dc75-4bf4-ad8b-8ffc19568965",
   "metadata": {},
   "source": [
    "# After selecting the element:"
   ]
  },
  {
   "cell_type": "markdown",
   "id": "129653e8-7e2c-42b8-a028-b4a8c5cbb65b",
   "metadata": {},
   "source": [
    "### Get the text inside of the element"
   ]
  },
  {
   "cell_type": "code",
   "execution_count": 10,
   "id": "03e636b3-93ed-4115-8b55-34ba69d9092e",
   "metadata": {},
   "outputs": [],
   "source": [
    "# Same with CSS Selectors --> element.text"
   ]
  },
  {
   "cell_type": "markdown",
   "id": "4a969a72-199c-4656-8651-a8d54bcd6b31",
   "metadata": {},
   "source": [
    "### Get values of the attributes of the element"
   ]
  },
  {
   "cell_type": "code",
   "execution_count": 11,
   "id": "464b6006-39d2-462d-8654-03015783c1f9",
   "metadata": {},
   "outputs": [],
   "source": [
    "# Same with CSS Selectors -->  element.get_attribute('att_name')"
   ]
  },
  {
   "cell_type": "markdown",
   "id": "7a11ce0d-8986-4acf-af56-3bf1e6d49151",
   "metadata": {},
   "source": [
    "# Navigation (siblings - parents)"
   ]
  },
  {
   "cell_type": "markdown",
   "id": "f02d30d0-1ce8-43f6-a68e-cc6fa5837e02",
   "metadata": {},
   "source": [
    "### Find parent of an element"
   ]
  },
  {
   "cell_type": "code",
   "execution_count": 12,
   "id": "c807d232-0393-44ee-93c6-7faf400cf84c",
   "metadata": {},
   "outputs": [
    {
     "data": {
      "text/plain": [
       "'li'"
      ]
     },
     "execution_count": 12,
     "metadata": {},
     "output_type": "execute_result"
    }
   ],
   "source": [
    "driver.get(url)\n",
    "first_book = driver.find_element(By.XPATH, '//article[@class=\"product_pod\"]')\n",
    "# first_books_div = first_book.find_element(By.XPATH, './div').get_attribute('class')\n",
    "# first_books_div\n",
    "parent_of_first = first_book.find_element(By.XPATH, './..')\n",
    "parent_of_first.tag_name"
   ]
  },
  {
   "cell_type": "markdown",
   "id": "707afae8-eda1-4354-a93e-0d85e21ec998",
   "metadata": {},
   "source": [
    "### Find sibling of an element"
   ]
  },
  {
   "cell_type": "code",
   "execution_count": 13,
   "id": "d793d194-910c-4e58-a3bc-24b1da9142c3",
   "metadata": {},
   "outputs": [
    {
     "data": {
      "text/plain": [
       "'Tipping the Velvet'"
      ]
     },
     "execution_count": 13,
     "metadata": {},
     "output_type": "execute_result"
    }
   ],
   "source": [
    "driver.get(url)\n",
    "first_book = driver.find_element(By.XPATH, '//article[@class=\"product_pod\"]')\n",
    "parent_of_first = first_book.find_element(By.XPATH, './..')\n",
    "following_sibling = parent_of_first.find_element(By.XPATH, './following-sibling::li[1]')\n",
    "second_book_name = following_sibling.find_element(By.XPATH, './article/div/a/img').get_attribute('alt')\n",
    "second_book_name"
   ]
  },
  {
   "cell_type": "code",
   "execution_count": 14,
   "id": "f0017230-330d-4c2c-8e74-a5059ad53004",
   "metadata": {},
   "outputs": [
    {
     "data": {
      "text/plain": [
       "\"It's Only the Himalayas\""
      ]
     },
     "execution_count": 14,
     "metadata": {},
     "output_type": "execute_result"
    }
   ],
   "source": [
    "driver.get(url)\n",
    "book_name = driver.find_element(By.XPATH, '//article[@class=\"product_pod\"]/../following-sibling::li[19]/article/div/a/img').get_attribute('alt')\n",
    "book_name"
   ]
  },
  {
   "cell_type": "code",
   "execution_count": null,
   "id": "70170236-3419-477a-a4fa-627a69eec4e5",
   "metadata": {},
   "outputs": [],
   "source": []
  }
 ],
 "metadata": {
  "kernelspec": {
   "display_name": "Python 3 (ipykernel)",
   "language": "python",
   "name": "python3"
  },
  "language_info": {
   "codemirror_mode": {
    "name": "ipython",
    "version": 3
   },
   "file_extension": ".py",
   "mimetype": "text/x-python",
   "name": "python",
   "nbconvert_exporter": "python",
   "pygments_lexer": "ipython3",
   "version": "3.12.4"
  }
 },
 "nbformat": 4,
 "nbformat_minor": 5
}
